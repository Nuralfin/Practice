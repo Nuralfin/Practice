{
 "cells": [
  {
   "cell_type": "markdown",
   "metadata": {},
   "source": [
    "# if ....elif....else #more condition"
   ]
  },
  {
   "cell_type": "code",
   "execution_count": 4,
   "metadata": {},
   "outputs": [
    {
     "name": "stdout",
     "output_type": "stream",
     "text": [
      "enter a number87\n",
      "87 is a positive number\n"
     ]
    }
   ],
   "source": [
    "#If statement (whether an number is a positive number or not?)\n",
    "x=int(input(\"enter a number\"))\n",
    "if x>0:\n",
    "    print(x, \"is a positive number\")\n",
    "elif x==0:\n",
    "    print(\"zero\")\n",
    "else:\n",
    "    print(x, \"is a negative number\")"
   ]
  },
  {
   "cell_type": "markdown",
   "metadata": {},
   "source": [
    "# Practice1: find out the biggest number among a,b and c"
   ]
  },
  {
   "cell_type": "code",
   "execution_count": 8,
   "metadata": {},
   "outputs": [
    {
     "name": "stdout",
     "output_type": "stream",
     "text": [
      "enter a number4\n",
      "enter a number7\n",
      "enter a number10\n",
      "10 is the largest number\n"
     ]
    }
   ],
   "source": [
    "a=int(input(\"enter a number\"))\n",
    "b=int(input(\"enter a number\"))\n",
    "c=int(input(\"enter a number\"))\n",
    "if a>b and a>c:\n",
    "    print(a, \"is the largest number\")\n",
    "elif b>a and b>c:\n",
    "    print(b,\"is the largest number\")\n",
    "else:\n",
    "    print(c, \"is the largest number\")\n"
   ]
  },
  {
   "cell_type": "markdown",
   "metadata": {},
   "source": [
    "# Nested if condition ##if within if "
   ]
  },
  {
   "cell_type": "code",
   "execution_count": 12,
   "metadata": {},
   "outputs": [
    {
     "name": "stdout",
     "output_type": "stream",
     "text": [
      "enter a number-8\n",
      "-8 is a negative number\n"
     ]
    }
   ],
   "source": [
    "#(whether an number is a positive number or not?)\n",
    "x=int(input(\"enter a number\"))\n",
    "if x>=0:\n",
    "    if x==0:\n",
    "     print(\"Zero\")\n",
    "    else:\n",
    "     print(x, \"is a positive number\")\n",
    "else:\n",
    " print(x,\"is a negative number\")"
   ]
  },
  {
   "cell_type": "markdown",
   "metadata": {},
   "source": [
    "# check whether a number lies between 20 and 30\n",
    "\n"
   ]
  },
  {
   "cell_type": "code",
   "execution_count": null,
   "metadata": {},
   "outputs": [],
   "source": [
    "x=int(input(\"enter a number\"))\n",
    "if x>=0:\n"
   ]
  },
  {
   "cell_type": "code",
   "execution_count": 25,
   "metadata": {},
   "outputs": [
    {
     "name": "stdout",
     "output_type": "stream",
     "text": [
      "enter a number20\n",
      "20 doesn't lies between 20 and 30\n"
     ]
    }
   ],
   "source": [
    "x=int(input(\"enter a number\"))\n",
    "if x>20:\n",
    "    if x<30:\n",
    "     print(x,\"lies between 20 and 30\")\n",
    "    else:\n",
    "     print(x, \"doesn't lies between 20 and 30\")\n",
    "else:\n",
    "    print(x,\"doesn't lies between 20 and 30\")"
   ]
  },
  {
   "cell_type": "code",
   "execution_count": 27,
   "metadata": {},
   "outputs": [
    {
     "name": "stdout",
     "output_type": "stream",
     "text": [
      "enter a number30\n",
      "30 is outside 20 and 30\n"
     ]
    }
   ],
   "source": [
    "#(whether an number is between 20 and 30)\n",
    "x = int(input(\"enter a number\"))\n",
    "if x>=20 and x<30:\n",
    "    if x==20:\n",
    "        print(x, \"is a twenty\")\n",
    "    elif x==30:\n",
    "        print(x, \"is a thirty\")\n",
    "    else:\n",
    "        print(x, \"is between 20 and 30\")\n",
    "else:\n",
    "    print (x, \"is outside 20 and 30\")"
   ]
  },
  {
   "cell_type": "code",
   "execution_count": 35,
   "metadata": {
    "code_folding": []
   },
   "outputs": [
    {
     "name": "stdout",
     "output_type": "stream",
     "text": [
      "enter a number16\n",
      "16 is between 20 and 30\n"
     ]
    }
   ],
   "source": [
    "#(whether an number is between 20 and 30)\n",
    "x = int(input(\"enter a number\"))\n",
    "if x>=20 and x<30:\n",
    "    if x==20:\n",
    "        print(x, \"is a twenty\")\n",
    "    elif x==30:\n",
    "        print(x, \"is a thirty\")\n",
    "    elif x<20:\n",
    "        print (x, \"is outside 20 and 30 and lower than 20\")\n",
    "    elif x>30:\n",
    "        print (x, \"is outside 20 and 30 and bigger than 30\")\n",
    "else:   \n",
    "    print(x, \"is between 20 and 30\")\n",
    "#else:\n",
    "#    print(\"this is the end of the program\")"
   ]
  },
  {
   "cell_type": "markdown",
   "metadata": {},
   "source": [
    "# Loop \n",
    "#while loop\n",
    "#for loop"
   ]
  },
  {
   "cell_type": "code",
   "execution_count": 36,
   "metadata": {},
   "outputs": [
    {
     "name": "stdout",
     "output_type": "stream",
     "text": [
      "1\n",
      "2\n",
      "3\n",
      "4\n",
      "5\n",
      "6\n",
      "7\n",
      "8\n",
      "9\n",
      "10\n",
      "11\n",
      "12\n",
      "13\n",
      "14\n",
      "15\n",
      "16\n",
      "17\n",
      "18\n",
      "19\n",
      "20\n",
      "21\n",
      "22\n",
      "23\n",
      "24\n",
      "25\n",
      "26\n",
      "27\n",
      "28\n",
      "29\n",
      "30\n",
      "31\n",
      "32\n",
      "33\n",
      "34\n",
      "35\n",
      "36\n",
      "37\n",
      "38\n",
      "39\n",
      "40\n",
      "41\n",
      "42\n",
      "43\n",
      "44\n",
      "45\n",
      "46\n",
      "47\n",
      "48\n",
      "49\n",
      "50\n",
      "51\n",
      "52\n",
      "53\n",
      "54\n",
      "55\n",
      "56\n",
      "57\n",
      "58\n",
      "59\n",
      "60\n",
      "61\n",
      "62\n",
      "63\n",
      "64\n",
      "65\n",
      "66\n",
      "67\n",
      "68\n",
      "69\n",
      "70\n",
      "71\n",
      "72\n",
      "73\n",
      "74\n",
      "75\n",
      "76\n",
      "77\n",
      "78\n",
      "79\n",
      "80\n",
      "81\n",
      "82\n",
      "83\n",
      "84\n",
      "85\n",
      "86\n",
      "87\n",
      "88\n",
      "89\n",
      "90\n",
      "91\n",
      "92\n",
      "93\n",
      "94\n",
      "95\n",
      "96\n",
      "97\n",
      "98\n",
      "99\n",
      "100\n"
     ]
    }
   ],
   "source": [
    "#while loop (1-100) \n",
    "i=1\n",
    "while i<=100:\n",
    "    print(i)\n",
    "    i=i+1\n",
    "    \n"
   ]
  },
  {
   "cell_type": "code",
   "execution_count": 37,
   "metadata": {},
   "outputs": [
    {
     "name": "stdout",
     "output_type": "stream",
     "text": [
      "0\n",
      "10\n",
      "20\n",
      "30\n",
      "40\n",
      "50\n",
      "60\n",
      "70\n",
      "80\n",
      "90\n",
      "100\n"
     ]
    }
   ],
   "source": [
    "#(0,10,20.....,100)\n",
    "i=0\n",
    "while i<=100:\n",
    "    print(i)\n",
    "    i=i+10"
   ]
  },
  {
   "cell_type": "code",
   "execution_count": 45,
   "metadata": {},
   "outputs": [
    {
     "name": "stdout",
     "output_type": "stream",
     "text": [
      "0 10 20 30 40 50 60 70 80 90 100 "
     ]
    }
   ],
   "source": [
    "#(0,10,20.....,100)\n",
    "i=0\n",
    "while i<=100:\n",
    "    print(i,end=\" \")\n",
    "    i=i+10"
   ]
  },
  {
   "cell_type": "code",
   "execution_count": 49,
   "metadata": {},
   "outputs": [
    {
     "name": "stdout",
     "output_type": "stream",
     "text": [
      "1\n",
      "2\n",
      "3\n",
      "4\n",
      "5\n",
      "6\n",
      "7\n",
      "8\n",
      "9\n",
      "10\n"
     ]
    }
   ],
   "source": [
    "i=1\n",
    "while i<=10:\n",
    "    print(i)\n",
    "    i=1+i"
   ]
  },
  {
   "cell_type": "code",
   "execution_count": 50,
   "metadata": {},
   "outputs": [
    {
     "name": "stdout",
     "output_type": "stream",
     "text": [
      "Enter a number5\n",
      "5\n",
      "10\n",
      "15\n",
      "20\n",
      "25\n",
      "30\n",
      "35\n",
      "40\n",
      "45\n",
      "50\n"
     ]
    }
   ],
   "source": [
    "#write the table of 5/any number using while loop\n",
    "a=int(input(\"Enter a number\"))\n",
    "i=1\n",
    "while i<=10:\n",
    "    print(a*i)\n",
    "    i=i+1\n"
   ]
  },
  {
   "cell_type": "code",
   "execution_count": null,
   "metadata": {},
   "outputs": [],
   "source": []
  }
 ],
 "metadata": {
  "kernelspec": {
   "display_name": "Python 3 (ipykernel)",
   "language": "python",
   "name": "python3"
  },
  "language_info": {
   "codemirror_mode": {
    "name": "ipython",
    "version": 3
   },
   "file_extension": ".py",
   "mimetype": "text/x-python",
   "name": "python",
   "nbconvert_exporter": "python",
   "pygments_lexer": "ipython3",
   "version": "3.7.1"
  },
  "toc": {
   "base_numbering": 1,
   "nav_menu": {},
   "number_sections": true,
   "sideBar": true,
   "skip_h1_title": false,
   "title_cell": "Table of Contents",
   "title_sidebar": "Contents",
   "toc_cell": false,
   "toc_position": {},
   "toc_section_display": true,
   "toc_window_display": false
  }
 },
 "nbformat": 4,
 "nbformat_minor": 4
}
