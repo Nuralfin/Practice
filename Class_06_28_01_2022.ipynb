{
 "cells": [
  {
   "cell_type": "markdown",
   "metadata": {},
   "source": [
    "# While loop"
   ]
  },
  {
   "cell_type": "code",
   "execution_count": 2,
   "metadata": {},
   "outputs": [
    {
     "name": "stdout",
     "output_type": "stream",
     "text": [
      "1\n",
      "2\n",
      "3\n",
      "4\n",
      "5\n",
      "6\n",
      "7\n",
      "8\n",
      "9\n",
      "10\n"
     ]
    }
   ],
   "source": [
    "#print 1-10\n",
    "i=1 \n",
    "while i<=10:\n",
    "   print(i)\n",
    "   i=1+i\n",
    "\n"
   ]
  },
  {
   "cell_type": "code",
   "execution_count": 3,
   "metadata": {},
   "outputs": [
    {
     "name": "stdout",
     "output_type": "stream",
     "text": [
      "0\n",
      "10\n",
      "20\n",
      "30\n",
      "40\n",
      "50\n",
      "60\n",
      "70\n",
      "80\n",
      "90\n",
      "100\n"
     ]
    }
   ],
   "source": [
    "# 0, 10, 20 ......, 100\n",
    "a=0\n",
    "while a<=100:\n",
    "    print(a)\n",
    "    a=a+10"
   ]
  },
  {
   "cell_type": "code",
   "execution_count": 7,
   "metadata": {},
   "outputs": [
    {
     "name": "stdout",
     "output_type": "stream",
     "text": [
      "Enter a number6\n",
      "6 * 1 = 6\n",
      "6 * 2 = 12\n",
      "6 * 3 = 18\n",
      "6 * 4 = 24\n",
      "6 * 5 = 30\n",
      "6 * 6 = 36\n",
      "6 * 7 = 42\n",
      "6 * 8 = 48\n",
      "6 * 9 = 54\n",
      "6 * 10 = 60\n",
      "This is the end of table 6\n"
     ]
    }
   ],
   "source": [
    "#Table of a number using while loop\n",
    "a=int(input(\"Enter a number\"))\n",
    "i=1                      #initialization\n",
    "while i<=10:             #while = limit\n",
    "    print(a, \"*\", i, \"=\", a*i )  #body\n",
    "    i=i+1                #increment/decrement = without this it will be infinity\n",
    "else:\n",
    "    print (\"This is the end of table\", a)"
   ]
  },
  {
   "cell_type": "code",
   "execution_count": 8,
   "metadata": {},
   "outputs": [
    {
     "name": "stdout",
     "output_type": "stream",
     "text": [
      "enter a number7\n",
      "1 * 7 = 7\n",
      "2 * 7 = 14\n",
      "3 * 7 = 21\n",
      "4 * 7 = 28\n",
      "5 * 7 = 35\n",
      "6 * 7 = 42\n",
      "7 * 7 = 49\n",
      "8 * 7 = 56\n",
      "9 * 7 = 63\n",
      "10 * 7 = 70\n"
     ]
    }
   ],
   "source": [
    "n=int(input(\"enter a number\"))\n",
    "i=1\n",
    "while i<=10:\n",
    "    print(i, \"*\", n, \"=\", i*n)\n",
    "    i=i+1"
   ]
  },
  {
   "cell_type": "code",
   "execution_count": 12,
   "metadata": {},
   "outputs": [
    {
     "name": "stdout",
     "output_type": "stream",
     "text": [
      "1\n",
      "2\n",
      "3\n",
      "4\n",
      "5\n",
      "6\n",
      "7\n",
      "8\n"
     ]
    }
   ],
   "source": [
    "#break function, to terminate the program after a certain value\n",
    "i=1\n",
    "while i<=10:\n",
    "    if i==9:\n",
    "        break\n",
    "    print(i)\n",
    "    i=i+1"
   ]
  },
  {
   "cell_type": "code",
   "execution_count": 14,
   "metadata": {},
   "outputs": [
    {
     "name": "stdout",
     "output_type": "stream",
     "text": [
      "Enter a number7\n",
      "1 x 7 = 7\n",
      "2 x 7 = 14\n",
      "3 x 7 = 21\n",
      "4 x 7 = 28\n",
      "5 x 7 = 35\n",
      "6 x 7 = 42\n",
      "7 x 7 = 49\n"
     ]
    }
   ],
   "source": [
    "a=int(input(\"Enter a number\"))\n",
    "i=1\n",
    "while i<=10:\n",
    "    if i==8:\n",
    "        break\n",
    "    print(i, \"x\",a, \"=\", a*i)\n",
    "    i=i+1"
   ]
  },
  {
   "cell_type": "code",
   "execution_count": 18,
   "metadata": {},
   "outputs": [
    {
     "name": "stdout",
     "output_type": "stream",
     "text": [
      "1\n",
      "2\n",
      "3\n",
      "4\n",
      "5\n",
      "7\n",
      "9\n",
      "10\n"
     ]
    }
   ],
   "source": [
    "#continue, to exclude few \"terms\"\n",
    "i=0\n",
    "while i<=9:\n",
    "    i=1+i \n",
    "    if i == 6 or i == 8:\n",
    "        continue\n",
    "    print(i)\n",
    "    "
   ]
  },
  {
   "cell_type": "code",
   "execution_count": 34,
   "metadata": {},
   "outputs": [
    {
     "name": "stdout",
     "output_type": "stream",
     "text": [
      "enter a number1634\n",
      "1634 is not a armstrong number\n"
     ]
    }
   ],
   "source": [
    "#Armstrong number (while loop)\n",
    "a=int(input(\"enter a number\"))\n",
    "b=a\n",
    "sum=0\n",
    "while a!=0:\n",
    "    r=a%10\n",
    "    sum=sum+(r**3)\n",
    "    a=int(a/10)\n",
    "if sum==b:\n",
    "    print(b, \"is a armstrong number\")\n",
    "else:\n",
    "    print(b, \"is not a armstrong number\")"
   ]
  },
  {
   "cell_type": "code",
   "execution_count": 43,
   "metadata": {},
   "outputs": [
    {
     "name": "stdout",
     "output_type": "stream",
     "text": [
      "Enter a number0\n",
      "The factorial is zero\n"
     ]
    }
   ],
   "source": [
    "#factorial of a number using while loop\n",
    "a=int(input(\"Enter a number\")) #5=5*4*3*2*1\n",
    "i=1\n",
    "f=1\n",
    "if a<0:\n",
    "    print(\"The factorial is not possible\")\n",
    "elif a==0:\n",
    "    print(\"The factorial is zero\")\n",
    "else:\n",
    "    while i<=a:\n",
    "        f=f*i\n",
    "        i=i+1\n",
    "    print(\"The factorial of \", a, \"is\", f)\n",
    "    "
   ]
  },
  {
   "cell_type": "code",
   "execution_count": 46,
   "metadata": {},
   "outputs": [
    {
     "name": "stdout",
     "output_type": "stream",
     "text": [
      "Enter number3\n",
      "The factorial of 3 is 6\n"
     ]
    }
   ],
   "source": [
    "#factorial number: 5!=5*4*3*2*1=120; 0!=0, \n",
    "#factorial for negative number= undef?\n",
    "#create logic\n",
    "\n",
    "a=int(input(\"Enter number\")) # 5!=5*4*3*2*1=120\n",
    "i=1\n",
    "f=1                      \n",
    "if a<0:\n",
    "    print (\"The factorial is not possible\")\n",
    "elif a==0:\n",
    "    print(\"The factorial is zero\")\n",
    "else:\n",
    "    while i<=a:\n",
    "        f=f*i \n",
    "        i=i+1\n",
    "    print (\"The factorial of\", a, \"is\", f)"
   ]
  },
  {
   "cell_type": "code",
   "execution_count": null,
   "metadata": {},
   "outputs": [],
   "source": []
  }
 ],
 "metadata": {
  "kernelspec": {
   "display_name": "Python 3 (ipykernel)",
   "language": "python",
   "name": "python3"
  },
  "language_info": {
   "codemirror_mode": {
    "name": "ipython",
    "version": 3
   },
   "file_extension": ".py",
   "mimetype": "text/x-python",
   "name": "python",
   "nbconvert_exporter": "python",
   "pygments_lexer": "ipython3",
   "version": "3.7.1"
  },
  "toc": {
   "base_numbering": 1,
   "nav_menu": {},
   "number_sections": true,
   "sideBar": true,
   "skip_h1_title": false,
   "title_cell": "Table of Contents",
   "title_sidebar": "Contents",
   "toc_cell": false,
   "toc_position": {},
   "toc_section_display": true,
   "toc_window_display": false
  }
 },
 "nbformat": 4,
 "nbformat_minor": 4
}
