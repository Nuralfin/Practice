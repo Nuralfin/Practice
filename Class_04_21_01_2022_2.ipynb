{
 "cells": [
  {
   "cell_type": "code",
   "execution_count": 1,
   "metadata": {},
   "outputs": [
    {
     "name": "stdout",
     "output_type": "stream",
     "text": [
      "enter a number10\n"
     ]
    }
   ],
   "source": [
    "a = input(\"enter a number\")"
   ]
  },
  {
   "cell_type": "code",
   "execution_count": 2,
   "metadata": {},
   "outputs": [
    {
     "name": "stdout",
     "output_type": "stream",
     "text": [
      "10\n"
     ]
    }
   ],
   "source": [
    "print(a)"
   ]
  },
  {
   "cell_type": "code",
   "execution_count": 3,
   "metadata": {},
   "outputs": [
    {
     "name": "stdout",
     "output_type": "stream",
     "text": [
      "enter a number6\n"
     ]
    }
   ],
   "source": [
    "b= int(input(\"enter a number\"))"
   ]
  },
  {
   "cell_type": "code",
   "execution_count": 4,
   "metadata": {},
   "outputs": [
    {
     "name": "stdout",
     "output_type": "stream",
     "text": [
      "6\n"
     ]
    }
   ],
   "source": [
    "print(b)"
   ]
  },
  {
   "cell_type": "code",
   "execution_count": 11,
   "metadata": {},
   "outputs": [
    {
     "name": "stdout",
     "output_type": "stream",
     "text": [
      "enter a number0\n"
     ]
    }
   ],
   "source": [
    "#If statement (whether an number is a positive number or not?)\n",
    "x=int(input(\"enter a number\"))\n",
    "if x>0:\n",
    "    print(\"The number is positive\")"
   ]
  },
  {
   "cell_type": "code",
   "execution_count": 13,
   "metadata": {},
   "outputs": [
    {
     "name": "stdout",
     "output_type": "stream",
     "text": [
      "enter a number10\n"
     ]
    }
   ],
   "source": [
    "#if a number is greater than 40 or not\n",
    "x=int(input(\"enter a number\"))\n",
    "if x>40:\n",
    "    print(\"The number is greater than 40\")"
   ]
  },
  {
   "cell_type": "code",
   "execution_count": 15,
   "metadata": {},
   "outputs": [
    {
     "name": "stdout",
     "output_type": "stream",
     "text": [
      "enter a number-8\n",
      "This is not a positive number\n"
     ]
    }
   ],
   "source": [
    "#if...else statement (whether an number is a positive number or not?)\n",
    "x=int(input(\"enter a number\"))\n",
    "if x>0:\n",
    "    print(\"This is a positive number\")\n",
    "else:\n",
    "    print(\"This is not a positive number\")"
   ]
  },
  {
   "cell_type": "code",
   "execution_count": 17,
   "metadata": {},
   "outputs": [
    {
     "name": "stdout",
     "output_type": "stream",
     "text": [
      "enter a number-3\n",
      "This is not a positive number\n",
      "9\n"
     ]
    }
   ],
   "source": [
    "#to check whether a number is positive or not and make a square of that number\n",
    "x=int(input(\"enter a number\"))\n",
    "if x>0:\n",
    "    print(\"This is a positive number\")\n",
    "    y=x**2\n",
    "    print(y)\n",
    "else:\n",
    "    print(\"This is not a positive number\")\n",
    "    z=x**2\n",
    "    print(z)\n",
    "    "
   ]
  },
  {
   "cell_type": "code",
   "execution_count": 18,
   "metadata": {},
   "outputs": [
    {
     "data": {
      "text/plain": [
       "0.75"
      ]
     },
     "execution_count": 18,
     "metadata": {},
     "output_type": "execute_result"
    }
   ],
   "source": [
    "3/4"
   ]
  },
  {
   "cell_type": "code",
   "execution_count": 20,
   "metadata": {},
   "outputs": [
    {
     "data": {
      "text/plain": [
       "0"
      ]
     },
     "execution_count": 20,
     "metadata": {},
     "output_type": "execute_result"
    }
   ],
   "source": [
    "4%2"
   ]
  },
  {
   "cell_type": "code",
   "execution_count": 21,
   "metadata": {},
   "outputs": [
    {
     "name": "stdout",
     "output_type": "stream",
     "text": [
      "enter a number5\n",
      "5 is an odd number\n"
     ]
    }
   ],
   "source": [
    "#wrie an program to check whether a number is odd or even\n",
    "x=int(input(\"enter a number\"))\n",
    "if x%2==0:\n",
    "    print(x, \"is an even number\")\n",
    "else:\n",
    "    print(x,\"is an odd number\")"
   ]
  },
  {
   "cell_type": "code",
   "execution_count": 22,
   "metadata": {},
   "outputs": [
    {
     "name": "stdout",
     "output_type": "stream",
     "text": [
      "enter a number5\n",
      "5 is an odd number\n"
     ]
    }
   ],
   "source": [
    "#wrie an program to check whether a number is odd or even\n",
    "x=int(input(\"enter a number\"))\n",
    "if x%2!=0:\n",
    "    print(x, \"is an odd number\")\n",
    "else:\n",
    "    print(x,\"is an even number\")"
   ]
  },
  {
   "cell_type": "markdown",
   "metadata": {},
   "source": [
    "# != (not equal to)"
   ]
  }
 ],
 "metadata": {
  "kernelspec": {
   "display_name": "Python 3 (ipykernel)",
   "language": "python",
   "name": "python3"
  },
  "language_info": {
   "codemirror_mode": {
    "name": "ipython",
    "version": 3
   },
   "file_extension": ".py",
   "mimetype": "text/x-python",
   "name": "python",
   "nbconvert_exporter": "python",
   "pygments_lexer": "ipython3",
   "version": "3.7.1"
  },
  "toc": {
   "base_numbering": 1,
   "nav_menu": {},
   "number_sections": true,
   "sideBar": true,
   "skip_h1_title": false,
   "title_cell": "Table of Contents",
   "title_sidebar": "Contents",
   "toc_cell": false,
   "toc_position": {},
   "toc_section_display": true,
   "toc_window_display": false
  }
 },
 "nbformat": 4,
 "nbformat_minor": 4
}
